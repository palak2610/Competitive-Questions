{
 "cells": [
  {
   "cell_type": "markdown",
   "metadata": {},
   "source": [
    "## Spiral Matrix"
   ]
  },
  {
   "cell_type": "code",
   "execution_count": 1,
   "metadata": {},
   "outputs": [],
   "source": [
    "import numpy as np"
   ]
  },
  {
   "cell_type": "code",
   "execution_count": 9,
   "metadata": {},
   "outputs": [],
   "source": [
    "def Spiral(m, n, A):\n",
    "    k=0; l=0;\n",
    "    while(k<m and l<n):\n",
    "        for i in range(l,n):\n",
    "            print(A[k][i], end = \" \")\n",
    "        k=k+1\n",
    "        for i in range(k,m):\n",
    "            print(A[i][n-1], end = \" \")\n",
    "        n=n-1\n",
    "        if(k<m):\n",
    "            for i in range(n - 1, (l - 1), -1) : \n",
    "                print(A[m - 1][i], end = \" \")  \n",
    "            m -= 1\n",
    "        if (l<n) : \n",
    "            for i in range(m - 1, k - 1, -1) : \n",
    "                print(A[i][l], end = \" \") \n",
    "              \n",
    "            l += 1"
   ]
  },
  {
   "cell_type": "code",
   "execution_count": 8,
   "metadata": {},
   "outputs": [
    {
     "name": "stdout",
     "output_type": "stream",
     "text": [
      "Enter the number of rows:4\n",
      "Enter the number of columns:4\n",
      "Enter the entries rowwise:\n",
      "1\n",
      "2\n",
      "3\n",
      "4\n",
      "5\n",
      "6\n",
      "7\n",
      "8\n",
      "9\n",
      "10\n",
      "11\n",
      "12\n",
      "13\n",
      "14\n",
      "15\n",
      "16\n",
      "1 2 3 4 8 12 16 15 14 13 9 5 6 7 11 10 "
     ]
    }
   ],
   "source": [
    "if __name__ == \"__main__\":\n",
    "    R = int(input(\"Enter the number of rows:\")) \n",
    "    C = int(input(\"Enter the number of columns:\"))\n",
    "    matrix = [] \n",
    "    print(\"Enter the entries rowwise:\") \n",
    "    for i in range(R):          \n",
    "        a =[] \n",
    "        for j in range(C):       \n",
    "             a.append(int(input())) \n",
    "        matrix.append(a) \n",
    "    Spiral(R, C, matrix)\n"
   ]
  },
  {
   "cell_type": "code",
   "execution_count": null,
   "metadata": {},
   "outputs": [],
   "source": []
  }
 ],
 "metadata": {
  "kernelspec": {
   "display_name": "Python 3",
   "language": "python",
   "name": "python3"
  },
  "language_info": {
   "codemirror_mode": {
    "name": "ipython",
    "version": 3
   },
   "file_extension": ".py",
   "mimetype": "text/x-python",
   "name": "python",
   "nbconvert_exporter": "python",
   "pygments_lexer": "ipython3",
   "version": "3.7.6"
  }
 },
 "nbformat": 4,
 "nbformat_minor": 4
}
