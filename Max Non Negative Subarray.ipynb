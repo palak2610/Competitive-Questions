{
 "cells": [
  {
   "cell_type": "markdown",
   "metadata": {},
   "source": [
    "## Max Non Negative Subarray"
   ]
  },
  {
   "cell_type": "code",
   "execution_count": 33,
   "metadata": {},
   "outputs": [],
   "source": [
    "def maxset(A):\n",
    "        n = len(A)\n",
    "        if n == 0: return []\n",
    "        maximum, current_max =0, 0\n",
    "        max_list, current_list = [], []\n",
    "        for i in range(n):\n",
    "            if A[i] >= 0: \n",
    "                current_list.append(A[i])\n",
    "            else:\n",
    "                current_max = sum(current_list)\n",
    "                if current_max > maximum or (current_max == maximum and len(current_list)>len(max_list)):\n",
    "                    maximum = current_max\n",
    "                    max_list = current_list\n",
    "                current_list = []\n",
    "        current_max = sum(current_list)\n",
    "        if current_max > maximum or (current_max == maximum and len(current_list)>len(max_list)):\n",
    "            maximum = current_max\n",
    "            max_list = current_list\n",
    "        return max_list"
   ]
  }
 ],
 "metadata": {
  "kernelspec": {
   "display_name": "Python 3",
   "language": "python",
   "name": "python3"
  },
  "language_info": {
   "codemirror_mode": {
    "name": "ipython",
    "version": 3
   },
   "file_extension": ".py",
   "mimetype": "text/x-python",
   "name": "python",
   "nbconvert_exporter": "python",
   "pygments_lexer": "ipython3",
   "version": "3.7.6"
  }
 },
 "nbformat": 4,
 "nbformat_minor": 4
}
